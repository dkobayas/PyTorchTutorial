{
 "cells": [
  {
   "cell_type": "markdown",
   "id": "6d984bed",
   "metadata": {},
   "source": [
    "# Chapter 1. PyTorchの基本\n",
    "\n",
    "## Tensorの扱い\n",
    "\n",
    "#### 生成とindexによる代入と抽出"
   ]
  },
  {
   "cell_type": "code",
   "execution_count": 1,
   "id": "85fa3e20",
   "metadata": {},
   "outputs": [],
   "source": [
    "import numpy as np\n",
    "import torch"
   ]
  },
  {
   "cell_type": "code",
   "execution_count": 3,
   "id": "eac2726c",
   "metadata": {},
   "outputs": [
    {
     "name": "stdout",
     "output_type": "stream",
     "text": [
      "tensor([[1, 2],\n",
      "        [3, 4]])\n"
     ]
    }
   ],
   "source": [
    "t = torch.tensor([[1,2],[3,4]])\n",
    "print(t)"
   ]
  },
  {
   "cell_type": "code",
   "execution_count": 7,
   "id": "300d71ad",
   "metadata": {},
   "outputs": [
    {
     "name": "stdout",
     "output_type": "stream",
     "text": [
      "tensor([0, 1, 2, 3, 4, 5, 6, 7, 8, 9])\n"
     ]
    }
   ],
   "source": [
    "t = torch.arange(0,10)\n",
    "print(t)"
   ]
  },
  {
   "cell_type": "code",
   "execution_count": 12,
   "id": "4955ebe0",
   "metadata": {},
   "outputs": [
    {
     "name": "stdout",
     "output_type": "stream",
     "text": [
      "tensor([[-1.5210, -1.4773,  0.7581, -0.2474, -2.5261],\n",
      "        [-0.6151, -0.4940, -0.4101,  0.7513, -0.7408],\n",
      "        [ 0.3151,  1.3492, -1.9902,  0.2413, -0.8299],\n",
      "        [ 0.3276,  0.1121,  0.1326,  0.1444,  0.2699],\n",
      "        [ 1.1167, -1.0587,  0.5871,  0.2814,  1.1776],\n",
      "        [-0.3473,  0.2123, -0.3058,  0.1901,  1.6929],\n",
      "        [ 0.2764, -0.0329, -0.7182,  0.4316, -0.1645],\n",
      "        [ 0.6947,  2.0871,  0.0699,  0.1656,  0.7212],\n",
      "        [ 0.0854,  0.3429, -1.3672,  0.5432,  0.1347],\n",
      "        [-0.4319, -0.7617,  0.9607, -0.1380,  0.8157]])\n"
     ]
    }
   ],
   "source": [
    "t = torch.randn(10, 5)\n",
    "print(t)"
   ]
  },
  {
   "cell_type": "code",
   "execution_count": 13,
   "id": "0d0cd5e0",
   "metadata": {},
   "outputs": [],
   "source": [
    "x = t.numpy()"
   ]
  },
  {
   "cell_type": "code",
   "execution_count": 21,
   "id": "1b28e42a",
   "metadata": {},
   "outputs": [
    {
     "name": "stdout",
     "output_type": "stream",
     "text": [
      "tensor([[-1.4773,  0.7581],\n",
      "        [-0.4940, -0.4101],\n",
      "        [ 1.3492, -1.9902],\n",
      "        [10.0000, 10.0000],\n",
      "        [-1.0587,  0.5871],\n",
      "        [ 0.2123, -0.3058],\n",
      "        [-0.0329, -0.7182],\n",
      "        [ 2.0871,  0.0699],\n",
      "        [ 0.3429, -1.3672],\n",
      "        [-0.7617,  0.9607]])\n",
      "tensor([[-1.5210, 20.0000,  0.7581, -0.2474, -2.5261],\n",
      "        [-0.6151, 20.0000, -0.4101,  0.7513, -0.7408],\n",
      "        [ 0.3151, 20.0000, -1.9902,  0.2413, -0.8299],\n",
      "        [10.0000, 20.0000, 10.0000, 10.0000, 10.0000],\n",
      "        [ 1.1167, 20.0000,  0.5871,  0.2814,  1.1776],\n",
      "        [-0.3473, 20.0000, -0.3058,  0.1901,  1.6929],\n",
      "        [ 0.2764, 20.0000, -0.7182,  0.4316, -0.1645],\n",
      "        [ 0.6947, 20.0000,  0.0699,  0.1656,  0.7212],\n",
      "        [ 0.0854, 20.0000, -1.3672,  0.5432,  0.1347],\n",
      "        [-0.4319, 20.0000,  0.9607, -0.1380,  0.8157]])\n"
     ]
    }
   ],
   "source": [
    "print(t[:, [1,2]])\n",
    "t[3] = 10\n",
    "t[:, 1] = 20\n",
    "print(t)"
   ]
  },
  {
   "cell_type": "markdown",
   "id": "692a8657",
   "metadata": {},
   "source": [
    "#### 演算"
   ]
  },
  {
   "cell_type": "code",
   "execution_count": null,
   "id": "51cc1e1b",
   "metadata": {},
   "outputs": [],
   "source": []
  }
 ],
 "metadata": {
  "kernelspec": {
   "display_name": "Python 3 (ipykernel)",
   "language": "python",
   "name": "python3"
  },
  "language_info": {
   "codemirror_mode": {
    "name": "ipython",
    "version": 3
   },
   "file_extension": ".py",
   "mimetype": "text/x-python",
   "name": "python",
   "nbconvert_exporter": "python",
   "pygments_lexer": "ipython3",
   "version": "3.8.2"
  }
 },
 "nbformat": 4,
 "nbformat_minor": 5
}
